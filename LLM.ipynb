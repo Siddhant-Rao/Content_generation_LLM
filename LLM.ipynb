{
  "nbformat": 4,
  "nbformat_minor": 0,
  "metadata": {
    "colab": {
      "provenance": [],
      "gpuType": "T4"
    },
    "kernelspec": {
      "name": "python3",
      "display_name": "Python 3"
    },
    "language_info": {
      "name": "python"
    },
    "accelerator": "GPU"
  },
  "cells": [
    {
      "cell_type": "code",
      "execution_count": null,
      "metadata": {
        "id": "1tgLdINUy-qr"
      },
      "outputs": [],
      "source": [
        "import pandas as pd\n",
        "import google.generativeai as genai\n",
        "\n",
        "# Load data\n",
        "df = pd.read_csv('enter the file that you want the llm to read')"
      ]
    },
    {
      "cell_type": "code",
      "source": [
        "# Gemini API Configuration\n",
        "API_KEY = \"Enter your gemini API key\"\n",
        "MODEL_NAME = \"gemini-1.5-flash\"\n",
        "\n",
        "# Initialize Gemini API\n",
        "genai.configure(api_key=API_KEY)\n",
        "model = genai.GenerativeModel(MODEL_NAME)\n",
        "\n",
        "\n",
        "\n",
        "# Function to generate article\n",
        "def generate_location_article(brand, model_name, city, state):\n",
        "    prompt = f\"\"\"\n",
        "You are an advanced AI content writer specializing in writing SEO-friendly and engaging used car listing descriptions. Your task is to write a *500 to 600 word* article about a specific *car brand and model available in a particular U.S. city*, using a natural, informative, and human-like tone. This article will appear on a website to help potential buyers learn more about buying that vehicle in that location.\n",
        "\n",
        "### Instructions:\n",
        "\n",
        "1.Use a Professional and Direct Tone: Write in a helpful, expert tone. Use simple, direct language that is easy to understand. Do not use marketing jargon, overly descriptive \"flowery\" language, or storytelling.\n",
        "2.Write a single, well-formed paragraph (5–6 lines, about 80–120 words) describing the car and its appeal in {city}, {state}. Do not use any line breaks, bullet points, subheadings, or separate sections. The entire output must be one continuous paragraph.\n",
        "3.Your tone should be natural, human-like, and locally relevant.\n",
        "4.Do not include repetitive phrases, or template language.\n",
        "5.Mention the features of the car\n",
        "6.Focus on what makes this car appealing in that city, mention a few features or trims, and add a touch of local flavor or lifestyle relevance.\n",
        "7.Describe Common Local Options (approx. 120 words): Factually list the model years, engine types, and trim levels a buyer in that city is likely to find. Mention specific, popular features like Apple CarPlay, blind-spot monitoring, or cargo space.\n",
        "8.⁠⁠Incorrect Example: Imagine cruising down the highway on a beautiful sunny day...\n",
        "9.Avoid using generic intros like \"This article helps you understand...\" or \"This guide covers...\". Instead, vary your openings naturally — use a question, a bold claim, or dive right into local relevance.\n",
        "10.Dont use the line \"This guide will help you navigate...\" or \"This article helps you understand...\" at all in output.\n",
        "11.Every article should be completely different from the other.\n",
        "12.Every output should have a different opening\n",
        "13.Your entire output must be a single paragraph with no line breaks, no bullet points, and no subheadings. If you output more than one paragraph, your answer will be rejected.\n",
        "14.No two output should have the same first word. If two or more output have the same first word then your answer will be rejected.\n",
        "\n",
        "### Example Output 1:\n",
        "The Ford F-150 is a familiar sight on Houston roads, where its mix of muscle and comfort fits right in with the city’s active lifestyle. Whether you’re looking at an XLT with the fuel-efficient EcoBoost or a Lariat with leather seats, you’ll find plenty of options for hauling gear, towing a boat, or just cruising the Beltway.\n",
        "Houston’s market often features low-mileage trucks with 4x4 capability and tech like SYNC infotainment, making the F-150 a practical pick for both work and weekend escapes.\n",
        "\n",
        "### Example Output 2:\n",
        "A Honda CR-V in Houston means easy commutes and family trips, thanks to its roomy cabin and reliable performance. Local listings often include EX-L and Touring trims with heated seats, Apple CarPlay, and advanced safety features—perfect for navigating busy highways or escaping to Galveston.\n",
        "With a reputation for low maintenance and strong resale value, the CR-V is a smart choice for Houstonians who want comfort and peace of mind in every drive.\n",
        "\n",
        "### Example Output 3:\n",
        "The Honda Civic is a go-to for Houston drivers who want style, efficiency, and easy parking downtown. You’ll find plenty of late-model Civics with turbo engines, Sport or EX trims, and features like touchscreen displays and remote start for those hot Texas afternoons.\n",
        "With its reputation for reliability and low running costs, the Civic is a favorite for students, commuters, and anyone who values a smooth, stress-free ride in the city.\n",
        "\n",
        "### Example Output 4:\n",
        "In Houston, the Honda Accord stands out for drivers who appreciate comfort and technology on long commutes. Many local Accords feature EX-L or Touring trims, offering leather, sunroof, and adaptive cruise control, while hybrid options appeal to those watching fuel costs.\n",
        "Its spacious interior and quiet ride make it ideal for families or professionals who want a sedan that’s both practical and refined for city living.\n",
        "\n",
        "### Example Output 5:\n",
        "Fort Worth drivers love the Ford F-150 for its rugged capability and everyday comfort. From XL work trucks to Platinum models loaded with features, local listings often include 4x4 and crew cab options that handle Texas roads with ease.\n",
        "Whether you’re towing, hauling, or just enjoying a weekend adventure, the F-150’s blend of power and tech makes it a standout in Fort Worth’s busy used truck market.\n",
        "\n",
        "*Brand:* {brand}\n",
        "*Model:* {model_name}\n",
        "*City, State:* {city}, {state}\n",
        "\n",
        "*Output Article:*\n",
        "\"\"\"\n",
        "    response = model.generate_content(prompt)\n",
        "    return response.text.strip() if response and hasattr(response, \"text\") else \"Description not available.\"\n",
        "\n",
        "# Process rows\n",
        "filtered_rows = []\n",
        "\n",
        "for _, row in df.iterrows():\n",
        "    brand = row.get(\"brand\", \"\")\n",
        "    model_name = row.get(\"model\", \"\")\n",
        "    city = row.get(\"city\", \"\")\n",
        "    state = row.get(\"state\", \"\")\n",
        "\n",
        "    if not all([brand, model_name, city, state]):\n",
        "        continue\n",
        "\n",
        "    article = generate_location_article(brand, model_name, city, state)\n",
        "\n",
        "    filtered_rows.append({\n",
        "        \"brand\": brand,\n",
        "        \"model_name\": model_name,\n",
        "        \"city\": city,\n",
        "        \"state\": state,\n",
        "        \"description\": article\n",
        "    })\n",
        "\n",
        "# Create DataFrame after populating filtered_rows\n",
        "df1 = pd.DataFrame(filtered_rows)\n",
        "df1.to_csv('result15.csv', index=False)"
      ],
      "metadata": {
        "id": "zdbJUmMYzOwy"
      },
      "execution_count": null,
      "outputs": []
    },
    {
      "cell_type": "code",
      "source": [],
      "metadata": {
        "id": "sMpdAdwOzVJf"
      },
      "execution_count": null,
      "outputs": []
    }
  ]
}
